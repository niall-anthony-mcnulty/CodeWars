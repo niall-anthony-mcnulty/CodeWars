
{
 "cells": [
  {
   "cell_type": "markdown",
   "metadata": {},
   "source": [
    "### Take 2 strings a1 and a2 including only letters from ato z. Return a new sorted string, the longest possible, containing distinct letters - each taken only once - coming from a1 and a2."
   ]
  },
  {
   "cell_type": "code",
   "execution_count": 3,
   "metadata": {},
   "outputs": [],
   "source": [
    "def longest(a1,a2):\n",
    "    #arguments must be strings containing letters a-z lowercase\n",
    "    difference = sorted(set(a1+a2))\n",
    "    return \"\".join([str(elem) for elem in difference])"
   ]
  },
  {
   "cell_type": "code",
   "execution_count": 4,
   "metadata": {},
   "outputs": [],
   "source": [
    "def longest(a1, a2):\n",
    "    #arguments must be strings containing letters a-z lowercase\n",
    "    return \"\".join(sorted(set(a1 + a2)))"
   ]
  }
 ],
 "metadata": {
  "kernelspec": {
   "display_name": "Python 3",
   "language": "python",
   "name": "python3"
  },
  "language_info": {
   "codemirror_mode": {
    "name": "ipython",
    "version": 3
   },
   "file_extension": ".py",
   "mimetype": "text/x-python",
   "name": "python",
   "nbconvert_exporter": "python",
   "pygments_lexer": "ipython3",
   "version": "3.8.3"
  }
 },
 "nbformat": 4,
 "nbformat_minor": 4
}
